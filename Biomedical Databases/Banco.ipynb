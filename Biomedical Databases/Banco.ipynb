{
  "nbformat": 4,
  "nbformat_minor": 0,
  "metadata": {
    "colab": {
      "name": "Banco.ipynb",
      "provenance": [],
      "collapsed_sections": []
    },
    "kernelspec": {
      "name": "python3",
      "display_name": "Python 3"
    }
  },
  "cells": [
    {
      "cell_type": "code",
      "metadata": {
        "id": "iOLEc8X1qrKe",
        "colab": {
          "base_uri": "https://localhost:8080/",
          "height": 122
        },
        "outputId": "51909314-9239-4e34-a469-38e0e5f60e2a"
      },
      "source": [
        "# Linkando drive ao colab\n",
        "from google.colab import drive\n",
        "drive.mount('/content/gdrive')"
      ],
      "execution_count": null,
      "outputs": [
        {
          "output_type": "stream",
          "text": [
            "Go to this URL in a browser: https://accounts.google.com/o/oauth2/auth?client_id=947318989803-6bn6qk8qdgf4n4g3pfee6491hc0brc4i.apps.googleusercontent.com&redirect_uri=urn%3aietf%3awg%3aoauth%3a2.0%3aoob&response_type=code&scope=email%20https%3a%2f%2fwww.googleapis.com%2fauth%2fdocs.test%20https%3a%2f%2fwww.googleapis.com%2fauth%2fdrive%20https%3a%2f%2fwww.googleapis.com%2fauth%2fdrive.photos.readonly%20https%3a%2f%2fwww.googleapis.com%2fauth%2fpeopleapi.readonly\n",
            "\n",
            "Enter your authorization code:\n",
            "··········\n",
            "Mounted at /content/gdrive\n"
          ],
          "name": "stdout"
        }
      ]
    },
    {
      "cell_type": "code",
      "metadata": {
        "id": "4oY-Gbg98ZiR",
        "colab": {
          "base_uri": "https://localhost:8080/",
          "height": 139
        },
        "outputId": "66f888ea-8acc-4556-a8b8-bc7da20d796b"
      },
      "source": [
        "# Instalando Biopython\n",
        "!pip install biopython"
      ],
      "execution_count": null,
      "outputs": [
        {
          "output_type": "stream",
          "text": [
            "Collecting biopython\n",
            "\u001b[?25l  Downloading https://files.pythonhosted.org/packages/96/01/7e5858a1e54bd0bd0d179cd74654740f07e86fb921a43dd20fb8beabe69d/biopython-1.75-cp36-cp36m-manylinux1_x86_64.whl (2.3MB)\n",
            "\u001b[K     |████████████████████████████████| 2.3MB 4.9MB/s \n",
            "\u001b[?25hRequirement already satisfied: numpy in /usr/local/lib/python3.6/dist-packages (from biopython) (1.17.4)\n",
            "Installing collected packages: biopython\n",
            "Successfully installed biopython-1.75\n"
          ],
          "name": "stdout"
        }
      ]
    },
    {
      "cell_type": "code",
      "metadata": {
        "id": "7klfTVWpqNHl"
      },
      "source": [
        "# Importando bibliotecas \n",
        "import Bio\n",
        "from Bio import Alphabet\n",
        "from Bio.Alphabet import IUPAC\n",
        "from Bio.Seq import Seq\n",
        "from Bio import SeqIO\n",
        "from Bio.SeqRecord import SeqRecord"
      ],
      "execution_count": null,
      "outputs": []
    },
    {
      "cell_type": "code",
      "metadata": {
        "id": "2zBap58GqruH"
      },
      "source": [
        "# Atribuindo informações sobre a sequência padrão da albumina humana a variável albuminaHomem\n",
        "aux = open('gdrive/My Drive/albuminaHomem.gb')\n",
        "albuminaHomem = SeqIO.read(aux, \"genbank\")"
      ],
      "execution_count": null,
      "outputs": []
    },
    {
      "cell_type": "code",
      "metadata": {
        "id": "IQRwA9Axm4b9",
        "colab": {
          "base_uri": "https://localhost:8080/",
          "height": 54
        },
        "outputId": "ef2c0bba-a9dd-4193-c615-6dff7bcbd2f1"
      },
      "source": [
        "albuminaHomem"
      ],
      "execution_count": null,
      "outputs": [
        {
          "output_type": "execute_result",
          "data": {
            "text/plain": [
              "SeqRecord(seq=Seq('CCTTTGGCACAATGAAGTGGGTAACCTTTATTTCCCTTCTTTTTCTCTTTAGCT...AGA', IUPACAmbiguousDNA()), id='DQ986150.1', name='DQ986150', description='Homo sapiens serum albumin mRNA, complete cds', dbxrefs=[])"
            ]
          },
          "metadata": {
            "tags": []
          },
          "execution_count": 5
        }
      ]
    },
    {
      "cell_type": "code",
      "metadata": {
        "id": "kevfauxEm8oV",
        "colab": {
          "base_uri": "https://localhost:8080/",
          "height": 34
        },
        "outputId": "27b27f2a-9f5d-4f64-d008-baa419e068cf"
      },
      "source": [
        "albuminaHomem.id"
      ],
      "execution_count": null,
      "outputs": [
        {
          "output_type": "execute_result",
          "data": {
            "text/plain": [
              "'DQ986150.1'"
            ]
          },
          "metadata": {
            "tags": []
          },
          "execution_count": 6
        }
      ]
    },
    {
      "cell_type": "code",
      "metadata": {
        "id": "Rtw6Kkk_nefg",
        "colab": {
          "base_uri": "https://localhost:8080/",
          "height": 34
        },
        "outputId": "6f3effc4-21e7-4f9f-a272-e953d384ffa3"
      },
      "source": [
        "albuminaHomem.name"
      ],
      "execution_count": null,
      "outputs": [
        {
          "output_type": "execute_result",
          "data": {
            "text/plain": [
              "'DQ986150'"
            ]
          },
          "metadata": {
            "tags": []
          },
          "execution_count": 7
        }
      ]
    },
    {
      "cell_type": "code",
      "metadata": {
        "id": "6_BvyRoTnAOJ",
        "colab": {
          "base_uri": "https://localhost:8080/",
          "height": 34
        },
        "outputId": "4c46ab83-3dd1-4d25-b787-03e0a030b7a4"
      },
      "source": [
        "albuminaHomem.seq"
      ],
      "execution_count": null,
      "outputs": [
        {
          "output_type": "execute_result",
          "data": {
            "text/plain": [
              "Seq('CCTTTGGCACAATGAAGTGGGTAACCTTTATTTCCCTTCTTTTTCTCTTTAGCT...AGA', IUPACAmbiguousDNA())"
            ]
          },
          "metadata": {
            "tags": []
          },
          "execution_count": 8
        }
      ]
    },
    {
      "cell_type": "code",
      "metadata": {
        "id": "Cr7-1qYUGH1X",
        "colab": {
          "base_uri": "https://localhost:8080/",
          "height": 54
        },
        "outputId": "0e4d3bf9-33bc-4476-e1ad-967d2a298612"
      },
      "source": [
        "# Tradução sequência padrão homem\n",
        "print(albuminaHomem.seq.transcribe())"
      ],
      "execution_count": null,
      "outputs": [
        {
          "output_type": "stream",
          "text": [
            "CCUUUGGCACAAUGAAGUGGGUAACCUUUAUUUCCCUUCUUUUUCUCUUUAGCUCGGCUUAUUCCAGGGGUGUGUUUCGUCGAGAUGCACACAAGAGUGAGGUUGCUCAUCGGUUUAAAGAUUUGGGAGAAGAAAAUUUCAAAGCCUUGGUGUUGAUUGCCUUUGCUCAGUAUCUUCAGCAGUGUCCAUUUGAAGAUCAUGUAAAAUUAGUGAAUGAAGUAACUGAAUUUGCAAAAACAUGUGUUGCUGAUGAGUCAGCUGAAAAUUGUGACAAAUCACUUCAUACCCUUUUUGGAGACAAAUUAUGCACAGUUGCAACUCUUCGUGAAACCUAUGGUGAAAUGGCUGACUGCUGUGCAAAACAAGAACCUGAGAGAAAUGAAUGCUUCUUGCAACACAAAGAUGACAACCCAAACCUCCCCCGAUUGGUGAGACCAGAGGUUGAUGUGAUGUGCACUGCUUUUCAUGACAAUGAAGAGACAUUUUUGAAAAAAUACUUAUAUGAAAUUGCCAGAAGACAUCCUUACUUUUAUGCCCCGGAACUCCUUUUCUUUGCUAAAAGGUAUAAAGCUGCUUUUACAGAAUGUUGCCAAGCUGCUGAUAAAGCUGCCUGCCUGUUGCCAAAGCUCGAUGAACUUCGGGAUGAAGGGAAGGCUUCGUCUGCCAAACAGAGACUCAAGUGUGCCAGUCUCCAAAAAUUUGGAGAAAGAGCUUUCAAAGCAUGGGCAGUAGCUCGCCUGAGCCAGAGAUUUCCCAAAGCUGAGUUUGCAGAAGUUUCCAAGUUAGUGACAGAUCUUACCAAAGUCCACACGGAAUGCUGCCAUGGAGAUCUGCUUGAAUGUGCUGAUGACAGGGCGGACCUUGCCAAGUAUAUCUGUGAAAAUCAAGAUUCGAUCUCCAGUAAACUGAAGGAAUGCUGUGAAAAACCUCUGUUGGAAAAAUCCCACUGCAUUGCCGAAGUGGAAAAUGAUGAGAUGCCUGCUGACUUGCCUUCAUUAGCUGCUGAUUUUGUUGAAAGUAAGGAUGUUUGCAAAAACUAUGCUGAGGCAAAGGAUGUCUUCCUGGGCAUGUUUUUGUAUGAAUAUGCAAGAAGGCAUCCUGAUUACUCUGUCGUGCUGCUGCUGAGACUUGCCAAGACAUAUGAAACCACUCUAGAGAAGUGCUGUGCCGCUGCAGAUCCUCAUGAAUGCUAUGCCAAAGUGUUCGAUGAAUUUAAACCUCUUGUGGAAGAGCCUCAGAAUUUAAUCAAACAAAAUUGUGAGCUUUUUGAGCAGCUUGGAGAGUACAAAUUCCAGAAUGCGCUAUUAGUUCGUUACACCAAGAAAGUACCCCAAGUGUCAACUCCAACUCUUGUAGAGGUCUCAAGAAACCUAGGAAAAGUGGGCAGCAAAUGUUGUAAACAUCCUGAAGCAAAAAGAAUGCCCUGUGCAGAAGACUAUCUAUCCGUGGUCCUGAACCAGUUAUGUGUGUUGCAUGAGAAAACGCCAGUAAGUGACAGAGUCACCAAAUGCUGCACAGAAUCCUUGGUGAACAGGCGACCAUGCUUUUCAGCUCUGGAAGUCGAUGAAACAUACGUUCCCAAAGAGUUUAAUGCUGAAACAUUCACCUUCCAUGCAGAUAUAUGCACACUUUCUGAGAAGGAGAGACAAAUCAAGAAACAAACUGCACUUGUUGAGCUCGUGAAACACAAGCCCAAGGCAACAAAAGAGCAACUGAAAGCUGUUAUGGAUGAUUUCGCAGCUUUUGUAGAGAAGUGCUGCAAGGCUGACGAUAAGGAGACCUGCUUUGCCGAGGAGGGUAAAAAACUUGUUGCUGCAAGUCAAGCUGCCUUAGGCUUAUAACAUCACAUUUAAAAGCAUCUCAGCCUACCAUGAGAAUAAGAGA\n"
          ],
          "name": "stdout"
        }
      ]
    },
    {
      "cell_type": "code",
      "metadata": {
        "id": "GKcen9uyoQvH",
        "colab": {
          "base_uri": "https://localhost:8080/",
          "height": 54
        },
        "outputId": "fce0caff-195c-4a80-a69d-320c8de01e5c"
      },
      "source": [
        "# Transcrição sequência padrão homem\n",
        "\n",
        "transcricao = albuminaHomem.seq.translate()\n",
        "print(albuminaHomem.seq.translate())\n",
        "#transcricao"
      ],
      "execution_count": null,
      "outputs": [
        {
          "output_type": "stream",
          "text": [
            "PLAQ*SG*PLFPFFFSLARLIPGVCFVEMHTRVRLLIGLKIWEKKISKPWC*LPLLSIFSSVHLKIM*N**MK*LNLQKHVLLMSQLKIVTNHFIPFLETNYAQLQLFVKPMVKWLTAVQNKNLREMNASCNTKMTTQTSPDW*DQRLM*CALLFMTMKRHF*KNTYMKLPEDILTFMPRNSFSLLKGIKLLLQNVAKLLIKLPACCQSSMNFGMKGRLRLPNRDSSVPVSKNLEKELSKHGQ*LA*ARDFPKLSLQKFPS**QILPKSTRNAAMEICLNVLMTGRTLPSISVKIKIRSPVN*RNAVKNLCWKNPTALPKWKMMRCLLTCLH*LLILLKVRMFAKTMLRQRMSSWACFCMNMQEGILITLSCCC*DLPRHMKPL*RSAVPLQILMNAMPKCSMNLNLLWKSLRI*SNKIVSFLSSLESTNSRMRY*FVTPRKYPKCQLQLL*RSQET*EKWAANVVNILKQKECPVQKTIYPWS*TSYVCCMRKRQ*VTESPNAAQNPW*TGDHAFQLWKSMKHTFPKSLMLKHSPSMQIYAHFLRRRDKSRNKLHLLSS*NTSPRQQKSN*KLLWMISQLL*RSAARLTIRRPALPRRVKNLLLQVKLP*AYNITFKSISAYHENKR\n"
          ],
          "name": "stdout"
        }
      ]
    },
    {
      "cell_type": "code",
      "metadata": {
        "id": "wCcitwtfnEgm",
        "colab": {
          "base_uri": "https://localhost:8080/",
          "height": 442
        },
        "outputId": "f1a76280-bd66-4634-b9cc-612a691e8d08"
      },
      "source": [
        "albuminaHomem.annotations"
      ],
      "execution_count": null,
      "outputs": [
        {
          "output_type": "execute_result",
          "data": {
            "text/plain": [
              "{'accessions': ['DQ986150'],\n",
              " 'data_file_division': 'PRI',\n",
              " 'date': '11-OCT-2006',\n",
              " 'keywords': [''],\n",
              " 'molecule_type': 'mRNA',\n",
              " 'organism': 'Homo sapiens',\n",
              " 'references': [Reference(title='Cloning and sequence analysis of human albumin gene', ...),\n",
              "  Reference(title='Direct Submission', ...)],\n",
              " 'sequence_version': 1,\n",
              " 'source': 'Homo sapiens (human)',\n",
              " 'taxonomy': ['Eukaryota',\n",
              "  'Metazoa',\n",
              "  'Chordata',\n",
              "  'Craniata',\n",
              "  'Vertebrata',\n",
              "  'Euteleostomi',\n",
              "  'Mammalia',\n",
              "  'Eutheria',\n",
              "  'Euarchontoglires',\n",
              "  'Primates',\n",
              "  'Haplorrhini',\n",
              "  'Catarrhini',\n",
              "  'Hominidae',\n",
              "  'Homo'],\n",
              " 'topology': 'linear'}"
            ]
          },
          "metadata": {
            "tags": []
          },
          "execution_count": 11
        }
      ]
    },
    {
      "cell_type": "code",
      "metadata": {
        "id": "E7C0tLoXl9NP"
      },
      "source": [
        "# Atribuindo os diferentes tipos de sequência da albumina humana a variável albuminaComplementar\n",
        "aux2 = open('gdrive/My Drive/albumina2.fasta')\n",
        "albuminaComplementar = SeqIO.to_dict(SeqIO.parse(aux2, \"fasta\"))"
      ],
      "execution_count": null,
      "outputs": []
    },
    {
      "cell_type": "code",
      "metadata": {
        "id": "OXXHa8fKo-nu",
        "colab": {
          "base_uri": "https://localhost:8080/",
          "height": 173
        },
        "outputId": "a836c1e6-ae90-457d-b766-cfb58c31730c"
      },
      "source": [
        "# Sequência de todos tipos de albuminas complementares do homem\n",
        "for key in albuminaComplementar:\n",
        "  print(albuminaComplementar[key].seq)"
      ],
      "execution_count": null,
      "outputs": [
        {
          "output_type": "stream",
          "text": [
            "MKWVTFISLLFLFSSAYSRGVFRRDAHKSEVAHRFKDLGEENFKALVLIAFAQYLQQCPFEDHVKLVNEVTEFAKTCVADESAENCDKSLHTLFGDKLCTVATLRETYGEMADCCAKQEPERNECFLQHKDDNPNLPRLVRPEVDVMCTAFHDNEETFLKKYLYEIARRHPYFYAPELLFFAKRYKAAFTECCQAADKAACLLPKLDELRDEGKASSAKQRLKCASLQKFGERAFKAWAVARLSQRFPKAEFAEVSKLVTDLTKVHTECCHGDLLECADDRADLAKYICENQDSISSKLKECCEKPLLEKSHCIAEVENDEMPADLPSLAADFVESKDVCKNYAEAKDVFLGMFLYEYARRHPDYSVVLLLRLAKTYETTLEKCCAAADPHECYAKVFDEFKPLVEEPQNLIKQNCELFEQLGEYKFQNALLVRYTKKVPQVSTPTLVEVSRNLGKVGSKCCKHPEAKRMPCAEDYLSVVLNQLCVLHEKTPVSDRVTKCCTESLVNRRPCFSALEVDETYVPKEFNAETFTFHADICTLSEKERQIKKQTALVELVKHKPKATKEQLKAVMDDFAAFVEKCCKADDKETCFAEEGKKLVAASQAALGL\n",
            "MKWVTFISLLFLFSSAYS\n",
            "DAHKSEVAHRFKDLGEENFKALVLIAFAQYLQQCPFEDHVKLVNEVTEFAKTCVADESAENCDKSLHTLFGDKLCTVATLRETYGEMADCCAKQEPERNECFLQHKDDNPNLPRLVRPEVDVMCTAFHDNEETFLKKYLYEIARRHPYFYAPELLFFAKRYKAAFTECCQAADKAACLLPKLDELRDEGKASSAKQRLKCASLQKFGERAFKAWAVARLSQRFPKAEFAEVSKLVTDLTKVHTECCHGDLLECADDRADLAKYICENQDSISSKLKECCEKPLLEKSHCIAEVENDEMPADLPSLAADFVESKDVCKNYAEAKDVFLGMFLYEYARRHPDYSVVLLLRLAKTYETTLEKCCAAADPHECYAKVFDEFKPLVEEPQNLIKQNCELFEQLGEYKFQNALLVRYTKKVPQVSTPTLVEVSRNLGKVGSKCCKHPEAKRMPCAEDYLSVVLNQLCVLHEKTPVSDRVTKCCTESLVNRRPCFSALEVDETYVPKEFNAETFTFHADICTLSEKERQIKKQTALVELVKHKPKATKEQLKAVMDDFAAFVEKCCKADDKETCFAEEGKKLVAASQAALGL\n",
            "RGVFRRDAHKSEVAHRFKDLGEENFKALVLIAFAQYLQQCPFEDHVKLVNEVTEFAKTCVADESAENCDKSLHTLFGDKLCTVATLRETYGEMADCCAKQEPERNECFLQHKDDNPNLPRLVRPEVDVMCTAFHDNEETFLKKYLYEIARRHPYFYAPELLFFAKRYKAAFTECCQAADKAACLLPKLDELR\n",
            "DEGKASSAKQRLKCASLQKFGERAFKAWAVARLSQRFPKAEFAEVSKLVTDLTKVHTECCHGDLLECADDRADLAKYICENQDSISSKLKECCEKPLLEKSHCIAEVENDEMPADLPSLAADFVESKDVCKNYAEAKDVFLGMFLYEYARRHPDYSVVLLLRLAKTYETTLEKCCAAADPHECYAKVFDEFKP\n",
            "LVEEPQNLIKQNCELFEQLGEYKFQNALLVRYTKKVPQVSTPTLVEVSRNLGKVGSKCCKHPEAKRMPCAEDYLSVVLNQLCVLHEKTPVSDRVTKCCTESLVNRRPCFSALEVDETYVPKEFNAETFTFHADICTLSEKERQIKKQTALVELVKHKPKATKEQLKAVMDDFAAFVEKCCKADDKETCFAEEGKKLVA\n",
            "MKWVTFISLLFLFSSAYSRGVFRRDAHKSEVAHRFKDLGEENFKAWAVARLSQRFPKAEFAEVSKLVTDLTKVHTECCHGDLLECADDRADLAKYICENQDSISSKLKECCEKPLLEKSHCIAEVENDEMPADLPSLAADFVESKDVCKNYAEAKDVFLGMFLYEYARRHPDYSVVLLLRLAKTYETTLEKCCAAADPHECYAKVFDEFKPLVEEPQNLIKQNCELFEQLGEYKFQNALLVRYTKKVPQVSTPTLVEVSRNLGKVGSKCCKHPEAKRMPCAEDYLSVVLNQLCVLHEKTPVSDRVTKCCTESLVNRRPCFSALEVDETYVPKEFNAETFTFHADICTLSEKERQIKKQTALVELVKHKPKATKEQLKAVMDDFAAFVEKCCKADDKETCFAEEGKKLVAASQAALGL\n",
            "MKWVTFISLLFLFSSAYSRGVFRRDAHKSEVAHRFKDLGEENFKALVLIAFAQYLQQCPFEDHVKLVNEVTEFAKTCVADESAENCDKSLHTLFGDKLCTVATLRETYGEMADCCAKQEPERNECFLQHKDDNPNLPRLVRPEVDVMCTAFHDNEETFLKKYLYETTLEKCCAAADPHECYAKVFDEFKPLVEEPQNLIKQNCELFEQLGEYKFQNALLVRYTKKVPQVSTPTLVEVSRNLGKVGSKCCKHPEAKRMPCAEDYLSVVLNQLCVLHEKTPVSDRVTKCCTESLVNRRPCFSALEVDETYVPKEFNAETFTFHADICTLSEKERQIKKQTALVELVKHKPKATKEQLKAVMDDFAAFVEKCCKADDKETCFAEEGKKLVAASQAALGL\n"
          ],
          "name": "stdout"
        }
      ]
    },
    {
      "cell_type": "code",
      "metadata": {
        "id": "JGfsayABx7IK",
        "colab": {
          "base_uri": "https://localhost:8080/",
          "height": 153
        },
        "outputId": "a4c65991-158e-4ae2-d365-8b8afc172d04"
      },
      "source": [
        "# Nomes de todos os tipos de albuminas complementares do homem\n",
        "for key in albuminaComplementar:\n",
        "  print(key)"
      ],
      "execution_count": null,
      "outputs": [
        {
          "output_type": "stream",
          "text": [
            "sp|P02768|ALBU_HUMAN\n",
            "sp|P02768|1-18\n",
            "sp|P02768|25-609\n",
            "sp|P02768|19-210\n",
            "sp|P02768|211-403\n",
            "sp|P02768|404-601\n",
            "sp|P02768-2|ALBU_HUMAN\n",
            "sp|P02768-3|ALBU_HUMAN\n"
          ],
          "name": "stdout"
        }
      ]
    },
    {
      "cell_type": "code",
      "metadata": {
        "id": "Vr92WBo9Vz7A"
      },
      "source": [
        "# Atribuindo os diferentes tipos de albumina a um dicionario interno\n",
        "informacoes1 = {}\n",
        "for key in albuminaComplementar:\n",
        "  informacoes1[str(key)] = str(albuminaComplementar[key].seq)"
      ],
      "execution_count": null,
      "outputs": []
    },
    {
      "cell_type": "code",
      "metadata": {
        "id": "dZIDd0kht3bh"
      },
      "source": [
        "# Atribuindo a sequencia de albumina padrao do homem a um dicionario interno\n",
        "informacoes2 = {}\n",
        "informacoes2 = str(transcricao)\n"
      ],
      "execution_count": null,
      "outputs": []
    },
    {
      "cell_type": "code",
      "metadata": {
        "id": "REkkKwUHuL2H"
      },
      "source": [
        "# Ultimo dicionario que ira armazenar as informações dos dois dicionarios anteriores\n",
        "informacoesFINAL = {}\n",
        "\n",
        "informacoesFINAL['Albumina Padrao'] = informacoes2\n",
        "informacoesFINAL['Albumina Complementar'] = informacoes1"
      ],
      "execution_count": null,
      "outputs": []
    },
    {
      "cell_type": "code",
      "metadata": {
        "id": "p0mXjGbTvV-c",
        "colab": {
          "base_uri": "https://localhost:8080/",
          "height": 190
        },
        "outputId": "d9a85859-6906-4a36-b03e-d866bd8c24e0"
      },
      "source": [
        "#Dados da bilbioteca com albumina padrão e complementares\n",
        "informacoesFINAL"
      ],
      "execution_count": null,
      "outputs": [
        {
          "output_type": "execute_result",
          "data": {
            "text/plain": [
              "{'Albumina Complementar': {'sp|P02768-2|ALBU_HUMAN': 'MKWVTFISLLFLFSSAYSRGVFRRDAHKSEVAHRFKDLGEENFKAWAVARLSQRFPKAEFAEVSKLVTDLTKVHTECCHGDLLECADDRADLAKYICENQDSISSKLKECCEKPLLEKSHCIAEVENDEMPADLPSLAADFVESKDVCKNYAEAKDVFLGMFLYEYARRHPDYSVVLLLRLAKTYETTLEKCCAAADPHECYAKVFDEFKPLVEEPQNLIKQNCELFEQLGEYKFQNALLVRYTKKVPQVSTPTLVEVSRNLGKVGSKCCKHPEAKRMPCAEDYLSVVLNQLCVLHEKTPVSDRVTKCCTESLVNRRPCFSALEVDETYVPKEFNAETFTFHADICTLSEKERQIKKQTALVELVKHKPKATKEQLKAVMDDFAAFVEKCCKADDKETCFAEEGKKLVAASQAALGL',\n",
              "  'sp|P02768-3|ALBU_HUMAN': 'MKWVTFISLLFLFSSAYSRGVFRRDAHKSEVAHRFKDLGEENFKALVLIAFAQYLQQCPFEDHVKLVNEVTEFAKTCVADESAENCDKSLHTLFGDKLCTVATLRETYGEMADCCAKQEPERNECFLQHKDDNPNLPRLVRPEVDVMCTAFHDNEETFLKKYLYETTLEKCCAAADPHECYAKVFDEFKPLVEEPQNLIKQNCELFEQLGEYKFQNALLVRYTKKVPQVSTPTLVEVSRNLGKVGSKCCKHPEAKRMPCAEDYLSVVLNQLCVLHEKTPVSDRVTKCCTESLVNRRPCFSALEVDETYVPKEFNAETFTFHADICTLSEKERQIKKQTALVELVKHKPKATKEQLKAVMDDFAAFVEKCCKADDKETCFAEEGKKLVAASQAALGL',\n",
              "  'sp|P02768|1-18': 'MKWVTFISLLFLFSSAYS',\n",
              "  'sp|P02768|19-210': 'RGVFRRDAHKSEVAHRFKDLGEENFKALVLIAFAQYLQQCPFEDHVKLVNEVTEFAKTCVADESAENCDKSLHTLFGDKLCTVATLRETYGEMADCCAKQEPERNECFLQHKDDNPNLPRLVRPEVDVMCTAFHDNEETFLKKYLYEIARRHPYFYAPELLFFAKRYKAAFTECCQAADKAACLLPKLDELR',\n",
              "  'sp|P02768|211-403': 'DEGKASSAKQRLKCASLQKFGERAFKAWAVARLSQRFPKAEFAEVSKLVTDLTKVHTECCHGDLLECADDRADLAKYICENQDSISSKLKECCEKPLLEKSHCIAEVENDEMPADLPSLAADFVESKDVCKNYAEAKDVFLGMFLYEYARRHPDYSVVLLLRLAKTYETTLEKCCAAADPHECYAKVFDEFKP',\n",
              "  'sp|P02768|25-609': 'DAHKSEVAHRFKDLGEENFKALVLIAFAQYLQQCPFEDHVKLVNEVTEFAKTCVADESAENCDKSLHTLFGDKLCTVATLRETYGEMADCCAKQEPERNECFLQHKDDNPNLPRLVRPEVDVMCTAFHDNEETFLKKYLYEIARRHPYFYAPELLFFAKRYKAAFTECCQAADKAACLLPKLDELRDEGKASSAKQRLKCASLQKFGERAFKAWAVARLSQRFPKAEFAEVSKLVTDLTKVHTECCHGDLLECADDRADLAKYICENQDSISSKLKECCEKPLLEKSHCIAEVENDEMPADLPSLAADFVESKDVCKNYAEAKDVFLGMFLYEYARRHPDYSVVLLLRLAKTYETTLEKCCAAADPHECYAKVFDEFKPLVEEPQNLIKQNCELFEQLGEYKFQNALLVRYTKKVPQVSTPTLVEVSRNLGKVGSKCCKHPEAKRMPCAEDYLSVVLNQLCVLHEKTPVSDRVTKCCTESLVNRRPCFSALEVDETYVPKEFNAETFTFHADICTLSEKERQIKKQTALVELVKHKPKATKEQLKAVMDDFAAFVEKCCKADDKETCFAEEGKKLVAASQAALGL',\n",
              "  'sp|P02768|404-601': 'LVEEPQNLIKQNCELFEQLGEYKFQNALLVRYTKKVPQVSTPTLVEVSRNLGKVGSKCCKHPEAKRMPCAEDYLSVVLNQLCVLHEKTPVSDRVTKCCTESLVNRRPCFSALEVDETYVPKEFNAETFTFHADICTLSEKERQIKKQTALVELVKHKPKATKEQLKAVMDDFAAFVEKCCKADDKETCFAEEGKKLVA',\n",
              "  'sp|P02768|ALBU_HUMAN': 'MKWVTFISLLFLFSSAYSRGVFRRDAHKSEVAHRFKDLGEENFKALVLIAFAQYLQQCPFEDHVKLVNEVTEFAKTCVADESAENCDKSLHTLFGDKLCTVATLRETYGEMADCCAKQEPERNECFLQHKDDNPNLPRLVRPEVDVMCTAFHDNEETFLKKYLYEIARRHPYFYAPELLFFAKRYKAAFTECCQAADKAACLLPKLDELRDEGKASSAKQRLKCASLQKFGERAFKAWAVARLSQRFPKAEFAEVSKLVTDLTKVHTECCHGDLLECADDRADLAKYICENQDSISSKLKECCEKPLLEKSHCIAEVENDEMPADLPSLAADFVESKDVCKNYAEAKDVFLGMFLYEYARRHPDYSVVLLLRLAKTYETTLEKCCAAADPHECYAKVFDEFKPLVEEPQNLIKQNCELFEQLGEYKFQNALLVRYTKKVPQVSTPTLVEVSRNLGKVGSKCCKHPEAKRMPCAEDYLSVVLNQLCVLHEKTPVSDRVTKCCTESLVNRRPCFSALEVDETYVPKEFNAETFTFHADICTLSEKERQIKKQTALVELVKHKPKATKEQLKAVMDDFAAFVEKCCKADDKETCFAEEGKKLVAASQAALGL'},\n",
              " 'Albumina Padrao': 'PLAQ*SG*PLFPFFFSLARLIPGVCFVEMHTRVRLLIGLKIWEKKISKPWC*LPLLSIFSSVHLKIM*N**MK*LNLQKHVLLMSQLKIVTNHFIPFLETNYAQLQLFVKPMVKWLTAVQNKNLREMNASCNTKMTTQTSPDW*DQRLM*CALLFMTMKRHF*KNTYMKLPEDILTFMPRNSFSLLKGIKLLLQNVAKLLIKLPACCQSSMNFGMKGRLRLPNRDSSVPVSKNLEKELSKHGQ*LA*ARDFPKLSLQKFPS**QILPKSTRNAAMEICLNVLMTGRTLPSISVKIKIRSPVN*RNAVKNLCWKNPTALPKWKMMRCLLTCLH*LLILLKVRMFAKTMLRQRMSSWACFCMNMQEGILITLSCCC*DLPRHMKPL*RSAVPLQILMNAMPKCSMNLNLLWKSLRI*SNKIVSFLSSLESTNSRMRY*FVTPRKYPKCQLQLL*RSQET*EKWAANVVNILKQKECPVQKTIYPWS*TSYVCCMRKRQ*VTESPNAAQNPW*TGDHAFQLWKSMKHTFPKSLMLKHSPSMQIYAHFLRRRDKSRNKLHLLSS*NTSPRQQKSN*KLLWMISQLL*RSAARLTIRRPALPRRVKNLLLQVKLP*AYNITFKSISAYHENKR'}"
            ]
          },
          "metadata": {
            "tags": []
          },
          "execution_count": 18
        }
      ]
    },
    {
      "cell_type": "code",
      "metadata": {
        "id": "k_6A1rJSQg7W",
        "colab": {
          "base_uri": "https://localhost:8080/",
          "height": 258
        },
        "outputId": "f6807c00-1057-4e2f-e79f-f663449081e2"
      },
      "source": [
        "import json\n",
        "\n",
        "jsonDado = json.dumps(informacoesFINAL, indent=5)\n",
        "jsonDado.encode\n",
        "print(jsonDado)\n"
      ],
      "execution_count": null,
      "outputs": [
        {
          "output_type": "stream",
          "text": [
            "{\n",
            "     \"Albumina Padrao\": \"PLAQ*SG*PLFPFFFSLARLIPGVCFVEMHTRVRLLIGLKIWEKKISKPWC*LPLLSIFSSVHLKIM*N**MK*LNLQKHVLLMSQLKIVTNHFIPFLETNYAQLQLFVKPMVKWLTAVQNKNLREMNASCNTKMTTQTSPDW*DQRLM*CALLFMTMKRHF*KNTYMKLPEDILTFMPRNSFSLLKGIKLLLQNVAKLLIKLPACCQSSMNFGMKGRLRLPNRDSSVPVSKNLEKELSKHGQ*LA*ARDFPKLSLQKFPS**QILPKSTRNAAMEICLNVLMTGRTLPSISVKIKIRSPVN*RNAVKNLCWKNPTALPKWKMMRCLLTCLH*LLILLKVRMFAKTMLRQRMSSWACFCMNMQEGILITLSCCC*DLPRHMKPL*RSAVPLQILMNAMPKCSMNLNLLWKSLRI*SNKIVSFLSSLESTNSRMRY*FVTPRKYPKCQLQLL*RSQET*EKWAANVVNILKQKECPVQKTIYPWS*TSYVCCMRKRQ*VTESPNAAQNPW*TGDHAFQLWKSMKHTFPKSLMLKHSPSMQIYAHFLRRRDKSRNKLHLLSS*NTSPRQQKSN*KLLWMISQLL*RSAARLTIRRPALPRRVKNLLLQVKLP*AYNITFKSISAYHENKR\",\n",
            "     \"Albumina Complementar\": {\n",
            "          \"sp|P02768|ALBU_HUMAN\": \"MKWVTFISLLFLFSSAYSRGVFRRDAHKSEVAHRFKDLGEENFKALVLIAFAQYLQQCPFEDHVKLVNEVTEFAKTCVADESAENCDKSLHTLFGDKLCTVATLRETYGEMADCCAKQEPERNECFLQHKDDNPNLPRLVRPEVDVMCTAFHDNEETFLKKYLYEIARRHPYFYAPELLFFAKRYKAAFTECCQAADKAACLLPKLDELRDEGKASSAKQRLKCASLQKFGERAFKAWAVARLSQRFPKAEFAEVSKLVTDLTKVHTECCHGDLLECADDRADLAKYICENQDSISSKLKECCEKPLLEKSHCIAEVENDEMPADLPSLAADFVESKDVCKNYAEAKDVFLGMFLYEYARRHPDYSVVLLLRLAKTYETTLEKCCAAADPHECYAKVFDEFKPLVEEPQNLIKQNCELFEQLGEYKFQNALLVRYTKKVPQVSTPTLVEVSRNLGKVGSKCCKHPEAKRMPCAEDYLSVVLNQLCVLHEKTPVSDRVTKCCTESLVNRRPCFSALEVDETYVPKEFNAETFTFHADICTLSEKERQIKKQTALVELVKHKPKATKEQLKAVMDDFAAFVEKCCKADDKETCFAEEGKKLVAASQAALGL\",\n",
            "          \"sp|P02768|1-18\": \"MKWVTFISLLFLFSSAYS\",\n",
            "          \"sp|P02768|25-609\": \"DAHKSEVAHRFKDLGEENFKALVLIAFAQYLQQCPFEDHVKLVNEVTEFAKTCVADESAENCDKSLHTLFGDKLCTVATLRETYGEMADCCAKQEPERNECFLQHKDDNPNLPRLVRPEVDVMCTAFHDNEETFLKKYLYEIARRHPYFYAPELLFFAKRYKAAFTECCQAADKAACLLPKLDELRDEGKASSAKQRLKCASLQKFGERAFKAWAVARLSQRFPKAEFAEVSKLVTDLTKVHTECCHGDLLECADDRADLAKYICENQDSISSKLKECCEKPLLEKSHCIAEVENDEMPADLPSLAADFVESKDVCKNYAEAKDVFLGMFLYEYARRHPDYSVVLLLRLAKTYETTLEKCCAAADPHECYAKVFDEFKPLVEEPQNLIKQNCELFEQLGEYKFQNALLVRYTKKVPQVSTPTLVEVSRNLGKVGSKCCKHPEAKRMPCAEDYLSVVLNQLCVLHEKTPVSDRVTKCCTESLVNRRPCFSALEVDETYVPKEFNAETFTFHADICTLSEKERQIKKQTALVELVKHKPKATKEQLKAVMDDFAAFVEKCCKADDKETCFAEEGKKLVAASQAALGL\",\n",
            "          \"sp|P02768|19-210\": \"RGVFRRDAHKSEVAHRFKDLGEENFKALVLIAFAQYLQQCPFEDHVKLVNEVTEFAKTCVADESAENCDKSLHTLFGDKLCTVATLRETYGEMADCCAKQEPERNECFLQHKDDNPNLPRLVRPEVDVMCTAFHDNEETFLKKYLYEIARRHPYFYAPELLFFAKRYKAAFTECCQAADKAACLLPKLDELR\",\n",
            "          \"sp|P02768|211-403\": \"DEGKASSAKQRLKCASLQKFGERAFKAWAVARLSQRFPKAEFAEVSKLVTDLTKVHTECCHGDLLECADDRADLAKYICENQDSISSKLKECCEKPLLEKSHCIAEVENDEMPADLPSLAADFVESKDVCKNYAEAKDVFLGMFLYEYARRHPDYSVVLLLRLAKTYETTLEKCCAAADPHECYAKVFDEFKP\",\n",
            "          \"sp|P02768|404-601\": \"LVEEPQNLIKQNCELFEQLGEYKFQNALLVRYTKKVPQVSTPTLVEVSRNLGKVGSKCCKHPEAKRMPCAEDYLSVVLNQLCVLHEKTPVSDRVTKCCTESLVNRRPCFSALEVDETYVPKEFNAETFTFHADICTLSEKERQIKKQTALVELVKHKPKATKEQLKAVMDDFAAFVEKCCKADDKETCFAEEGKKLVA\",\n",
            "          \"sp|P02768-2|ALBU_HUMAN\": \"MKWVTFISLLFLFSSAYSRGVFRRDAHKSEVAHRFKDLGEENFKAWAVARLSQRFPKAEFAEVSKLVTDLTKVHTECCHGDLLECADDRADLAKYICENQDSISSKLKECCEKPLLEKSHCIAEVENDEMPADLPSLAADFVESKDVCKNYAEAKDVFLGMFLYEYARRHPDYSVVLLLRLAKTYETTLEKCCAAADPHECYAKVFDEFKPLVEEPQNLIKQNCELFEQLGEYKFQNALLVRYTKKVPQVSTPTLVEVSRNLGKVGSKCCKHPEAKRMPCAEDYLSVVLNQLCVLHEKTPVSDRVTKCCTESLVNRRPCFSALEVDETYVPKEFNAETFTFHADICTLSEKERQIKKQTALVELVKHKPKATKEQLKAVMDDFAAFVEKCCKADDKETCFAEEGKKLVAASQAALGL\",\n",
            "          \"sp|P02768-3|ALBU_HUMAN\": \"MKWVTFISLLFLFSSAYSRGVFRRDAHKSEVAHRFKDLGEENFKALVLIAFAQYLQQCPFEDHVKLVNEVTEFAKTCVADESAENCDKSLHTLFGDKLCTVATLRETYGEMADCCAKQEPERNECFLQHKDDNPNLPRLVRPEVDVMCTAFHDNEETFLKKYLYETTLEKCCAAADPHECYAKVFDEFKPLVEEPQNLIKQNCELFEQLGEYKFQNALLVRYTKKVPQVSTPTLVEVSRNLGKVGSKCCKHPEAKRMPCAEDYLSVVLNQLCVLHEKTPVSDRVTKCCTESLVNRRPCFSALEVDETYVPKEFNAETFTFHADICTLSEKERQIKKQTALVELVKHKPKATKEQLKAVMDDFAAFVEKCCKADDKETCFAEEGKKLVAASQAALGL\"\n",
            "     }\n",
            "}\n"
          ],
          "name": "stdout"
        }
      ]
    },
    {
      "cell_type": "code",
      "metadata": {
        "id": "twtNIIjvrA6n"
      },
      "source": [
        ""
      ],
      "execution_count": null,
      "outputs": []
    }
  ]
}